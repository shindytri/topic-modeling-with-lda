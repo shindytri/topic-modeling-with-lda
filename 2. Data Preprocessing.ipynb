{
 "cells": [
  {
   "cell_type": "code",
   "execution_count": 17,
   "metadata": {},
   "outputs": [],
   "source": [
    "import re\n",
    "import pandas as pd"
   ]
  },
  {
   "cell_type": "code",
   "execution_count": 23,
   "metadata": {},
   "outputs": [
    {
     "data": {
      "text/html": [
       "<div>\n",
       "<style scoped>\n",
       "    .dataframe tbody tr th:only-of-type {\n",
       "        vertical-align: middle;\n",
       "    }\n",
       "\n",
       "    .dataframe tbody tr th {\n",
       "        vertical-align: top;\n",
       "    }\n",
       "\n",
       "    .dataframe thead th {\n",
       "        text-align: right;\n",
       "    }\n",
       "</style>\n",
       "<table border=\"1\" class=\"dataframe\">\n",
       "  <thead>\n",
       "    <tr style=\"text-align: right;\">\n",
       "      <th></th>\n",
       "      <th>Date</th>\n",
       "      <th>Tweets</th>\n",
       "    </tr>\n",
       "  </thead>\n",
       "  <tbody>\n",
       "    <tr>\n",
       "      <th>0</th>\n",
       "      <td>2020-06-21 19:37:38</td>\n",
       "      <td>#Gempa Mag:5.0, 22-Jun-20 02:33:08 WIB, Lok:9....</td>\n",
       "    </tr>\n",
       "    <tr>\n",
       "      <th>1</th>\n",
       "      <td>2020-06-22 05:24:14</td>\n",
       "      <td>New normal itu bukan berarti covidnya udah ila...</td>\n",
       "    </tr>\n",
       "    <tr>\n",
       "      <th>2</th>\n",
       "      <td>2020-06-22 18:41:53</td>\n",
       "      <td>PRESIDENTIAL HARASSMENT!</td>\n",
       "    </tr>\n",
       "    <tr>\n",
       "      <th>3</th>\n",
       "      <td>2020-06-22 23:59:59</td>\n",
       "      <td>Gua bingung dong, ini tuh ko bisa sering bgt d...</td>\n",
       "    </tr>\n",
       "    <tr>\n",
       "      <th>4</th>\n",
       "      <td>2020-06-22 23:59:59</td>\n",
       "      <td>RT @najwakaram: B7ebbkoun ktir ktir ktir ❤️❤️❤...</td>\n",
       "    </tr>\n",
       "  </tbody>\n",
       "</table>\n",
       "</div>"
      ],
      "text/plain": [
       "                  Date                                             Tweets\n",
       "0  2020-06-21 19:37:38  #Gempa Mag:5.0, 22-Jun-20 02:33:08 WIB, Lok:9....\n",
       "1  2020-06-22 05:24:14  New normal itu bukan berarti covidnya udah ila...\n",
       "2  2020-06-22 18:41:53                           PRESIDENTIAL HARASSMENT!\n",
       "3  2020-06-22 23:59:59  Gua bingung dong, ini tuh ko bisa sering bgt d...\n",
       "4  2020-06-22 23:59:59  RT @najwakaram: B7ebbkoun ktir ktir ktir ❤️❤️❤..."
      ]
     },
     "execution_count": 23,
     "metadata": {},
     "output_type": "execute_result"
    }
   ],
   "source": [
    "df = pd.read_csv('data/dataset.csv')\n",
    "df.head()"
   ]
  },
  {
   "cell_type": "code",
   "execution_count": 24,
   "metadata": {},
   "outputs": [
    {
     "data": {
      "text/html": [
       "<div>\n",
       "<style scoped>\n",
       "    .dataframe tbody tr th:only-of-type {\n",
       "        vertical-align: middle;\n",
       "    }\n",
       "\n",
       "    .dataframe tbody tr th {\n",
       "        vertical-align: top;\n",
       "    }\n",
       "\n",
       "    .dataframe thead th {\n",
       "        text-align: right;\n",
       "    }\n",
       "</style>\n",
       "<table border=\"1\" class=\"dataframe\">\n",
       "  <thead>\n",
       "    <tr style=\"text-align: right;\">\n",
       "      <th></th>\n",
       "      <th>Date</th>\n",
       "      <th>Tweets</th>\n",
       "      <th>Preprocessing</th>\n",
       "    </tr>\n",
       "  </thead>\n",
       "  <tbody>\n",
       "    <tr>\n",
       "      <th>0</th>\n",
       "      <td>2020-06-21 19:37:38</td>\n",
       "      <td>#Gempa Mag:5.0, 22-Jun-20 02:33:08 WIB, Lok:9....</td>\n",
       "      <td>gempa mag 5 0 22 jun 20 02 33 08 wib lok 9 11...</td>\n",
       "    </tr>\n",
       "    <tr>\n",
       "      <th>1</th>\n",
       "      <td>2020-06-22 05:24:14</td>\n",
       "      <td>New normal itu bukan berarti covidnya udah ila...</td>\n",
       "      <td>new normal itu bukan berarti covidnya udah ila...</td>\n",
       "    </tr>\n",
       "    <tr>\n",
       "      <th>2</th>\n",
       "      <td>2020-06-22 18:41:53</td>\n",
       "      <td>PRESIDENTIAL HARASSMENT!</td>\n",
       "      <td>presidential harassment</td>\n",
       "    </tr>\n",
       "    <tr>\n",
       "      <th>3</th>\n",
       "      <td>2020-06-22 23:59:59</td>\n",
       "      <td>Gua bingung dong, ini tuh ko bisa sering bgt d...</td>\n",
       "      <td>gua bingung dong ini tuh ko bisa sering bgt da...</td>\n",
       "    </tr>\n",
       "    <tr>\n",
       "      <th>4</th>\n",
       "      <td>2020-06-22 23:59:59</td>\n",
       "      <td>RT @najwakaram: B7ebbkoun ktir ktir ktir ❤️❤️❤...</td>\n",
       "      <td>b7ebbkoun ktir ktir ktir</td>\n",
       "    </tr>\n",
       "  </tbody>\n",
       "</table>\n",
       "</div>"
      ],
      "text/plain": [
       "                  Date                                             Tweets  \\\n",
       "0  2020-06-21 19:37:38  #Gempa Mag:5.0, 22-Jun-20 02:33:08 WIB, Lok:9....   \n",
       "1  2020-06-22 05:24:14  New normal itu bukan berarti covidnya udah ila...   \n",
       "2  2020-06-22 18:41:53                           PRESIDENTIAL HARASSMENT!   \n",
       "3  2020-06-22 23:59:59  Gua bingung dong, ini tuh ko bisa sering bgt d...   \n",
       "4  2020-06-22 23:59:59  RT @najwakaram: B7ebbkoun ktir ktir ktir ❤️❤️❤...   \n",
       "\n",
       "                                       Preprocessing  \n",
       "0   gempa mag 5 0 22 jun 20 02 33 08 wib lok 9 11...  \n",
       "1  new normal itu bukan berarti covidnya udah ila...  \n",
       "2                           presidential harassment   \n",
       "3  gua bingung dong ini tuh ko bisa sering bgt da...  \n",
       "4                          b7ebbkoun ktir ktir ktir   "
      ]
     },
     "execution_count": 24,
     "metadata": {},
     "output_type": "execute_result"
    }
   ],
   "source": [
    "def preprocessing(str):\n",
    "    #lowercase string\n",
    "    str = str.lower()\n",
    "    #remove rt, mention and link\n",
    "    str = re.sub('rt |@[a-z]*|http([a-z]|[0-9]|/|:|.)*', '', str)\n",
    "    #remove punctuation and emoticon\n",
    "    str = re.sub('[^a-z0-9]+', ' ', str)\n",
    "    return str\n",
    "\n",
    "df['Preprocessing'] = df.Tweets.apply(preprocessing)\n",
    "df.head()"
   ]
  },
  {
   "cell_type": "markdown",
   "metadata": {},
   "source": [
    "### EXAMPLE"
   ]
  },
  {
   "cell_type": "code",
   "execution_count": 25,
   "metadata": {},
   "outputs": [
    {
     "data": {
      "text/plain": [
       "'#Gempa Mag:5.0, 22-Jun-20 02:33:08 WIB, Lok:9.11 LS,110.85 BT (107 km BaratDaya PACITAN-JATIM), Kedlmn:63 Km, tdk berpotensi tsunami #BMKG https://t.co/NY4CZjSxdl'"
      ]
     },
     "execution_count": 25,
     "metadata": {},
     "output_type": "execute_result"
    }
   ],
   "source": [
    "# Before Preprocessing Data\n",
    "df.Tweets[0]"
   ]
  },
  {
   "cell_type": "code",
   "execution_count": 26,
   "metadata": {},
   "outputs": [
    {
     "name": "stdout",
     "output_type": "stream",
     "text": [
      " gempa mag 5 0 22 jun 20 02 33 08 wib lok 9 11 ls 110 85 bt 107 km baratdaya pacitan jatim kedlmn 63 km tdk berpotensi tsunami bmkg \n"
     ]
    }
   ],
   "source": [
    "# After Preprocessing Data\n",
    "print(df.Preprocessing[0])"
   ]
  },
  {
   "cell_type": "code",
   "execution_count": 27,
   "metadata": {},
   "outputs": [],
   "source": [
    "df.to_csv('data/preprocessed_data.csv', index=False)"
   ]
  }
 ],
 "metadata": {
  "kernelspec": {
   "display_name": "Python 3",
   "language": "python",
   "name": "python3"
  },
  "language_info": {
   "codemirror_mode": {
    "name": "ipython",
    "version": 3
   },
   "file_extension": ".py",
   "mimetype": "text/x-python",
   "name": "python",
   "nbconvert_exporter": "python",
   "pygments_lexer": "ipython3",
   "version": "3.7.3"
  }
 },
 "nbformat": 4,
 "nbformat_minor": 2
}
